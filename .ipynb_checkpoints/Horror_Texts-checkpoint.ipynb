{
 "cells": [
  {
   "cell_type": "code",
   "execution_count": 11,
   "metadata": {},
   "outputs": [
    {
     "name": "stdout",
     "output_type": "stream",
     "text": [
      "        id                                               text author\n",
      "0  id26305  This process, however, afforded me no means of...    EAP\n",
      "1  id17569  It never once occurred to me that the fumbling...    HPL\n",
      "2  id11008  In his left hand was a gold snuff box, from wh...    EAP\n",
      "3  id27763  How lovely is spring As we looked from Windsor...    MWS\n",
      "4  id12958  Finding nothing else, not even gold, the Super...    HPL\n"
     ]
    }
   ],
   "source": [
    "import numpy as np\n",
    "import pandas as pd \n",
    "import matplotlib \n",
    "import matplotlib.pyplot as plt\n",
    "\n",
    "\n",
    "df = pd.read_csv(\"train.csv\")\n",
    "print(df.head())"
   ]
  },
  {
   "cell_type": "markdown",
   "metadata": {},
   "source": [
    "Writting syles differ in many ways but one such way is that some writers are wordier than others, and some use more or less punctuation than others. This seems especially relevant given that the writers being analysed use several different types of writing (Poe as a poet, Shelly as short stories, Lovecraft as a novelist). There is definitely cross over with these styles but I would argue that the stylistic aspects carry over throughout works so the following functions are designed to assess the writing sections for wordiness and punctuator usage."
   ]
  },
  {
   "cell_type": "code",
   "execution_count": 37,
   "metadata": {},
   "outputs": [
    {
     "name": "stdout",
     "output_type": "stream",
     "text": [
      "        id                                               text author  \\\n",
      "0  id26305  This process, however, afforded me no means of...    EAP   \n",
      "1  id17569  It never once occurred to me that the fumbling...    HPL   \n",
      "2  id11008  In his left hand was a gold snuff box, from wh...    EAP   \n",
      "3  id27763  How lovely is spring As we looked from Windsor...    MWS   \n",
      "4  id12958  Finding nothing else, not even gold, the Super...    HPL   \n",
      "\n",
      "   word count                                   punctuator count  \\\n",
      "0          40  {'!': 0, '\"': 0, '#': 0, '$': 0, '%': 0, '&': ...   \n",
      "1          13  {'!': 0, '\"': 0, '#': 0, '$': 0, '%': 0, '&': ...   \n",
      "2          35  {'!': 0, '\"': 0, '#': 0, '$': 0, '%': 0, '&': ...   \n",
      "3          33  {'!': 0, '\"': 0, '#': 0, '$': 0, '%': 0, '&': ...   \n",
      "4          26  {'!': 0, '\"': 0, '#': 0, '$': 0, '%': 0, '&': ...   \n",
      "\n",
      "                                    punctuator array  \\\n",
      "0  [0, 0, 0, 0, 0, 0, 0, 0, 0, 0, 0, 1, 0, 1, 0, ...   \n",
      "1  [0, 0, 0, 0, 0, 0, 0, 0, 0, 0, 0, 0, 0, 1, 0, ...   \n",
      "2  [0, 0, 0, 0, 0, 0, 0, 0, 0, 0, 0, 1, 0, 1, 0, ...   \n",
      "3  [0, 0, 0, 0, 0, 0, 0, 0, 0, 0, 0, 1, 0, 1, 0, ...   \n",
      "4  [0, 0, 0, 0, 0, 0, 0, 0, 0, 0, 0, 1, 0, 1, 0, ...   \n",
      "\n",
      "                                    punctuator_count  \\\n",
      "0  {'!': 0, '\"': 0, '#': 0, '$': 0, '%': 0, '&': ...   \n",
      "1  {'!': 0, '\"': 0, '#': 0, '$': 0, '%': 0, '&': ...   \n",
      "2  {'!': 0, '\"': 0, '#': 0, '$': 0, '%': 0, '&': ...   \n",
      "3  {'!': 0, '\"': 0, '#': 0, '$': 0, '%': 0, '&': ...   \n",
      "4  {'!': 0, '\"': 0, '#': 0, '$': 0, '%': 0, '&': ...   \n",
      "\n",
      "                                    punctuator_array  temp1  temp2  \n",
      "0  [0, 0, 0, 0, 0, 0, 0, 0, 0, 0, 0, 1, 0, 1, 0, ...      7      3  \n",
      "1  [0, 0, 0, 0, 0, 0, 0, 0, 0, 0, 0, 0, 0, 1, 0, ...      1      1  \n",
      "2  [0, 0, 0, 0, 0, 0, 0, 0, 0, 0, 0, 1, 0, 1, 0, ...      5      2  \n",
      "3  [0, 0, 0, 0, 0, 0, 0, 0, 0, 0, 0, 1, 0, 1, 0, ...      4      2  \n",
      "4  [0, 0, 0, 0, 0, 0, 0, 0, 0, 0, 0, 1, 0, 1, 0, ...      4      3  \n",
      "  author  word count\n",
      "0    EAP   24.442405\n",
      "1    HPL   26.799645\n",
      "2    MWS   26.417273\n",
      "  author     temp1\n",
      "0    EAP  4.096329\n",
      "1    HPL  3.206921\n",
      "2    MWS  3.833719\n",
      "  author     temp2\n",
      "0    EAP  2.154177\n",
      "1    HPL  2.234960\n",
      "2    MWS  2.322799\n"
     ]
    }
   ],
   "source": [
    "import string\n",
    "\n",
    "\n",
    "def get_word_counts(text):\n",
    "    count = 0\n",
    "    for i in text:\n",
    "        if i == \" \":\n",
    "            count += 1\n",
    "    return count\n",
    "\n",
    "\n",
    "def get_punctuator_counts(text):\n",
    "    punct_dict = {}\n",
    "    for i in string.punctuation:\n",
    "        p_count = text.count(i)\n",
    "        punct_dict[i] = p_count\n",
    "    return punct_dict\n",
    "\n",
    "\n",
    "def get_punctuator_array(text):\n",
    "    punctuator_array_TF = []\n",
    "    for i in string.punctuation:\n",
    "        if i in text: \n",
    "            punctuator_array_TF.append(1)\n",
    "        else:\n",
    "            punctuator_array_TF.append(0)\n",
    "    return punctuator_array_TF\n",
    "\n",
    "df[\"word count\"] = df.text.apply(get_word_counts)\n",
    "df[\"punctuator_count\"] = df.text.apply(get_punctuator_counts)\n",
    "df[\"punctuator_array\"] = df.text.apply(get_punctuator_array)\n",
    "df[\"temp1\"] = df.punctuator_count.apply(lambda x: sum(x.values()))\n",
    "df[\"temp2\"] = df.punctuator_array.apply(lambda x: sum(x))\n",
    "\n",
    "print(df.head())\n",
    "print(df.groupby(\"author\", as_index=False)[\"word count\"].mean())\n",
    "print(df.groupby(\"author\", as_index=False)[\"temp1\"].mean())\n",
    "print(df.groupby(\"author\", as_index=False)[\"temp2\"].mean())"
   ]
  },
  {
   "cell_type": "markdown",
   "metadata": {},
   "source": [
    "The data thus far does not look all that interesting but it does show that Poe tends to use slightly more punctuators and have fewer words (which makes sense for a poet), but also shows that HPL tends to use the least punctuation (somewhat surprising). It also reveals that wordcount/puntuation used might be a good metric to include. Additionally, another set of features that would be interesting to explore are metrics realated to readability. Here, this is looked at in brief with python's readability package. "
   ]
  },
  {
   "cell_type": "code",
   "execution_count": 49,
   "metadata": {},
   "outputs": [
    {
     "ename": "SyntaxError",
     "evalue": "invalid syntax (<ipython-input-49-23dc45fe57ad>, line 14)",
     "traceback": [
      "\u001b[1;36m  File \u001b[1;32m\"<ipython-input-49-23dc45fe57ad>\"\u001b[1;36m, line \u001b[1;32m14\u001b[0m\n\u001b[1;33m    print((df.groupby(\"author\", as_index=False)[d.get(i) for d in df.readability].mean())\u001b[0m\n\u001b[1;37m                                                           ^\u001b[0m\n\u001b[1;31mSyntaxError\u001b[0m\u001b[1;31m:\u001b[0m invalid syntax\n"
     ],
     "output_type": "error"
    }
   ],
   "source": [
    "import readability\n",
    "\n",
    "\n",
    "def get_readability_nums(textstr):\n",
    "    pop_list = ['sentences_per_paragraph', 'type_token_ratio', 'sentences', 'paragraphs']\n",
    "    res = dict(readability.getmeasures(text=textstr, merge=True))\n",
    "    for i in pop_list:\n",
    "        del res[i]\n",
    "    return res\n",
    "\n",
    "df[\"readability\"] = df.text.apply(get_readability_nums)\n",
    "keyslist = list(df.at[0, \"readability\"].keys())\n",
    "for i in keyslist:\n",
    "    print((df.groupby(\"author\", as_index=False)[d.get(i) for d in df.readability].mean())"
   ]
  },
  {
   "cell_type": "code",
   "execution_count": null,
   "metadata": {
    "collapsed": true
   },
   "outputs": [],
   "source": []
  },
  {
   "cell_type": "code",
   "execution_count": null,
   "metadata": {
    "collapsed": true
   },
   "outputs": [],
   "source": []
  }
 ],
 "metadata": {
  "kernelspec": {
   "display_name": "Python 3",
   "language": "python",
   "name": "python3"
  },
  "language_info": {
   "codemirror_mode": {
    "name": "ipython",
    "version": 3
   },
   "file_extension": ".py",
   "mimetype": "text/x-python",
   "name": "python",
   "nbconvert_exporter": "python",
   "pygments_lexer": "ipython3",
   "version": "3.6.3"
  }
 },
 "nbformat": 4,
 "nbformat_minor": 2
}
